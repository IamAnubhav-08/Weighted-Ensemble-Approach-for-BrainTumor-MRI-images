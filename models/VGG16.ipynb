{
 "cells": [
  {
   "cell_type": "code",
   "execution_count": 10,
   "metadata": {},
   "outputs": [],
   "source": [
    "import tensorflow as tf\n",
    "import keras\n",
    "import os\n",
    "import shutil\n",
    "import cv2\n",
    "import numpy as np\n",
    "import glob as glob\n",
    "import matplotlib.pyplot as plt\n",
    "from keras.models import load_model"
   ]
  },
  {
   "cell_type": "code",
   "execution_count": 25,
   "metadata": {},
   "outputs": [
    {
     "name": "stdout",
     "output_type": "stream",
     "text": [
      "Collecting split-folders\n",
      "  Downloading split_folders-0.5.1-py3-none-any.whl (8.4 kB)\n",
      "Installing collected packages: split-folders\n",
      "Successfully installed split-folders-0.5.1\n",
      "Note: you may need to restart the kernel to use updated packages.\n"
     ]
    },
    {
     "name": "stderr",
     "output_type": "stream",
     "text": [
      "WARNING: Ignoring invalid distribution -otobuf (c:\\users\\anubhav\\anaconda3\\envs\\tf\\lib\\site-packages)\n",
      "WARNING: Ignoring invalid distribution - (c:\\users\\anubhav\\anaconda3\\envs\\tf\\lib\\site-packages)\n",
      "WARNING: Ignoring invalid distribution -otobuf (c:\\users\\anubhav\\anaconda3\\envs\\tf\\lib\\site-packages)\n",
      "WARNING: Ignoring invalid distribution -rotobuf (c:\\users\\anubhav\\anaconda3\\envs\\tf\\lib\\site-packages)\n",
      "WARNING: Ignoring invalid distribution -otobuf (c:\\users\\anubhav\\anaconda3\\envs\\tf\\lib\\site-packages)\n",
      "WARNING: Ignoring invalid distribution - (c:\\users\\anubhav\\anaconda3\\envs\\tf\\lib\\site-packages)\n",
      "WARNING: Ignoring invalid distribution -otobuf (c:\\users\\anubhav\\anaconda3\\envs\\tf\\lib\\site-packages)\n",
      "WARNING: Ignoring invalid distribution -rotobuf (c:\\users\\anubhav\\anaconda3\\envs\\tf\\lib\\site-packages)\n"
     ]
    }
   ],
   "source": [
    "pip install split-folders"
   ]
  },
  {
   "cell_type": "code",
   "execution_count": 28,
   "metadata": {},
   "outputs": [
    {
     "name": "stdout",
     "output_type": "stream",
     "text": [
      "['glioma', 'meningioma', 'notumor', 'pituitary']\n"
     ]
    },
    {
     "name": "stderr",
     "output_type": "stream",
     "text": [
      "Copying files: 1311 files [00:00, 1652.90 files/s]\n"
     ]
    }
   ],
   "source": [
    "import splitfolders\n",
    "import os\n",
    "path = \"Testing\"\n",
    "print(os.listdir(path))\n",
    "splitfolders.ratio(path,seed=123, output=\"Evaluation\", ratio=(0.7,0.3))"
   ]
  },
  {
   "cell_type": "code",
   "execution_count": 29,
   "metadata": {},
   "outputs": [
    {
     "name": "stdout",
     "output_type": "stream",
     "text": [
      "394\n",
      "917\n"
     ]
    }
   ],
   "source": [
    "print(len(glob.glob(\"Evaluation/Test/**/*.jpg\")))\n",
    "print(len(glob.glob(\"Evaluation/Validation/**/*.jpg\")))"
   ]
  },
  {
   "cell_type": "code",
   "execution_count": 30,
   "metadata": {},
   "outputs": [
    {
     "name": "stdout",
     "output_type": "stream",
     "text": [
      "Found 5712 files belonging to 4 classes.\n",
      "Found 1311 files belonging to 4 classes.\n"
     ]
    }
   ],
   "source": [
    "train_dir = \"Training\"\n",
    "train_ds = tf.keras.utils.image_dataset_from_directory(\n",
    "    train_dir,\n",
    "    labels='inferred',\n",
    "    label_mode='categorical',\n",
    "    batch_size=16,\n",
    "    image_size=(256, 256),\n",
    "    shuffle=True,\n",
    "    seed=123,\n",
    "    interpolation='area'\n",
    ")\n",
    "\n",
    "valid_dir = \"Evaluation/Validation\"\n",
    "val_ds = tf.keras.utils.image_dataset_from_directory(\n",
    "    test_dir,\n",
    "    labels='inferred',\n",
    "    label_mode='categorical',\n",
    "    batch_size=16,\n",
    "    image_size=(256, 256),\n",
    "    shuffle=True,\n",
    "    seed=123,\n",
    "    interpolation='area'\n",
    ")"
   ]
  },
  {
   "cell_type": "code",
   "execution_count": 31,
   "metadata": {},
   "outputs": [],
   "source": [
    "normalization_layer = tf.keras.layers.Rescaling(1./255)\n",
    "train_ds = train_ds.map(lambda x, y: (normalization_layer(x), y))\n",
    "val_ds = val_ds.map(lambda x, y: (normalization_layer(x), y))\n"
   ]
  },
  {
   "cell_type": "markdown",
   "metadata": {},
   "source": [
    "# Load VGG16"
   ]
  },
  {
   "cell_type": "code",
   "execution_count": 32,
   "metadata": {},
   "outputs": [],
   "source": [
    "model = tf.keras.Sequential()\n",
    "\n",
    "vgg16_base = tf.keras.applications.VGG16(\n",
    "    include_top=False,\n",
    "    weights=\"imagenet\",\n",
    "    input_tensor=None,\n",
    "    input_shape=(256,256,3),\n",
    ")\n",
    "\n",
    "for layer in vgg16_base.layers:\n",
    "    layer.trainable=False\n",
    "\n",
    "\n",
    "model.add(vgg16_base)\n",
    "model.add(tf.keras.layers.Flatten())\n",
    "model.add(tf.keras.layers.Dense(128, activation='relu'))\n",
    "model.add(tf.keras.layers.Dense(4, activation='softmax'))"
   ]
  },
  {
   "cell_type": "code",
   "execution_count": 33,
   "metadata": {},
   "outputs": [],
   "source": [
    "import segmentation_models_3D as sm\n",
    "focal_loss = sm.losses.CategoricalFocalLoss()"
   ]
  },
  {
   "cell_type": "code",
   "execution_count": 35,
   "metadata": {},
   "outputs": [],
   "source": [
    "epochs = 10\n",
    "model.compile(optimizer=tf.keras.optimizers.Adam(learning_rate=1e-4),\n",
    "              loss=focal_loss,\n",
    "              metrics=['accuracy'])\n",
    "\n",
    "checkpoint =  tf.keras.callbacks.ModelCheckpoint(filepath ='model_checkpoints/vgg16_focal_loss.hdf5',\n",
    "                                                 verbose=1,\n",
    "                                                 )\n",
    "\n",
    "# Define some callbacks to improve training.\n",
    "early_stopping = tf.keras.callbacks.EarlyStopping(monitor=\"val_loss\", patience=4)\n",
    "reduce_lr = tf.keras.callbacks.ReduceLROnPlateau(monitor=\"val_loss\", patience=5)\n"
   ]
  },
  {
   "cell_type": "code",
   "execution_count": 36,
   "metadata": {},
   "outputs": [
    {
     "name": "stdout",
     "output_type": "stream",
     "text": [
      "Epoch 1/10\n",
      "357/357 [==============================] - ETA: 0s - loss: 0.0108 - accuracy: 0.8430\n",
      "Epoch 1: saving model to model_checkpoints\\vgg16_focal_loss.hdf5\n",
      "357/357 [==============================] - 54s 150ms/step - loss: 0.0108 - accuracy: 0.8430 - val_loss: 0.0057 - val_accuracy: 0.9001 - lr: 1.0000e-04\n",
      "Epoch 2/10\n",
      "357/357 [==============================] - ETA: 0s - loss: 0.0036 - accuracy: 0.9357\n",
      "Epoch 2: saving model to model_checkpoints\\vgg16_focal_loss.hdf5\n",
      "357/357 [==============================] - 54s 150ms/step - loss: 0.0036 - accuracy: 0.9357 - val_loss: 0.0034 - val_accuracy: 0.9413 - lr: 1.0000e-04\n",
      "Epoch 3/10\n",
      "357/357 [==============================] - ETA: 0s - loss: 0.0023 - accuracy: 0.9597\n",
      "Epoch 3: saving model to model_checkpoints\\vgg16_focal_loss.hdf5\n",
      "357/357 [==============================] - 54s 150ms/step - loss: 0.0023 - accuracy: 0.9597 - val_loss: 0.0029 - val_accuracy: 0.9458 - lr: 1.0000e-04\n",
      "Epoch 4/10\n",
      "357/357 [==============================] - ETA: 0s - loss: 0.0013 - accuracy: 0.9767\n",
      "Epoch 4: saving model to model_checkpoints\\vgg16_focal_loss.hdf5\n",
      "357/357 [==============================] - 54s 150ms/step - loss: 0.0013 - accuracy: 0.9767 - val_loss: 0.0021 - val_accuracy: 0.9588 - lr: 1.0000e-04\n",
      "Epoch 5/10\n",
      "357/357 [==============================] - ETA: 0s - loss: 9.4749e-04 - accuracy: 0.9849\n",
      "Epoch 5: saving model to model_checkpoints\\vgg16_focal_loss.hdf5\n",
      "357/357 [==============================] - 54s 150ms/step - loss: 9.4749e-04 - accuracy: 0.9849 - val_loss: 0.0019 - val_accuracy: 0.9634 - lr: 1.0000e-04\n",
      "Epoch 6/10\n",
      "357/357 [==============================] - ETA: 0s - loss: 5.2228e-04 - accuracy: 0.9961\n",
      "Epoch 6: saving model to model_checkpoints\\vgg16_focal_loss.hdf5\n",
      "357/357 [==============================] - 54s 150ms/step - loss: 5.2228e-04 - accuracy: 0.9961 - val_loss: 0.0017 - val_accuracy: 0.9672 - lr: 1.0000e-04\n",
      "Epoch 7/10\n",
      "357/357 [==============================] - ETA: 0s - loss: 5.5744e-04 - accuracy: 0.9926\n",
      "Epoch 7: saving model to model_checkpoints\\vgg16_focal_loss.hdf5\n",
      "357/357 [==============================] - 54s 150ms/step - loss: 5.5744e-04 - accuracy: 0.9926 - val_loss: 0.0017 - val_accuracy: 0.9626 - lr: 1.0000e-04\n",
      "Epoch 8/10\n",
      "357/357 [==============================] - ETA: 0s - loss: 7.8857e-04 - accuracy: 0.9853\n",
      "Epoch 8: saving model to model_checkpoints\\vgg16_focal_loss.hdf5\n",
      "357/357 [==============================] - 54s 150ms/step - loss: 7.8857e-04 - accuracy: 0.9853 - val_loss: 0.0014 - val_accuracy: 0.9703 - lr: 1.0000e-04\n",
      "Epoch 9/10\n",
      "357/357 [==============================] - ETA: 0s - loss: 2.2589e-04 - accuracy: 0.9986\n",
      "Epoch 9: saving model to model_checkpoints\\vgg16_focal_loss.hdf5\n",
      "357/357 [==============================] - 54s 152ms/step - loss: 2.2589e-04 - accuracy: 0.9986 - val_loss: 0.0013 - val_accuracy: 0.9725 - lr: 1.0000e-04\n",
      "Epoch 10/10\n",
      "357/357 [==============================] - ETA: 0s - loss: 3.0433e-04 - accuracy: 0.9951\n",
      "Epoch 10: saving model to model_checkpoints\\vgg16_focal_loss.hdf5\n",
      "357/357 [==============================] - 55s 153ms/step - loss: 3.0433e-04 - accuracy: 0.9951 - val_loss: 0.0013 - val_accuracy: 0.9718 - lr: 1.0000e-04\n"
     ]
    }
   ],
   "source": [
    "history_vgg16 = model.fit(train_ds,\n",
    "                          validation_data=val_ds,\n",
    "                          epochs=epochs,\n",
    "                          callbacks=[early_stopping, reduce_lr, checkpoint])"
   ]
  },
  {
   "cell_type": "code",
   "execution_count": 38,
   "metadata": {},
   "outputs": [
    {
     "name": "stdout",
     "output_type": "stream",
     "text": [
      "Found 1311 files belonging to 4 classes.\n",
      "82/82 [==============================] - 10s 120ms/step - loss: 0.0013 - accuracy: 0.9718\n"
     ]
    }
   ],
   "source": [
    "valid_dir = \"Evaluation/Test\"\n",
    "test_ds = tf.keras.utils.image_dataset_from_directory(\n",
    "    test_dir,\n",
    "    labels='inferred',\n",
    "    label_mode='categorical',\n",
    "    batch_size=16,\n",
    "    image_size=(256, 256),\n",
    "    shuffle=True,\n",
    "    seed=123,\n",
    "    interpolation='area'\n",
    ")\n",
    "test_ds = test_ds.map(lambda x, y: (normalization_layer(x), y))\n",
    "score = model.evaluate(test_ds)"
   ]
  },
  {
   "cell_type": "code",
   "execution_count": 39,
   "metadata": {},
   "outputs": [
    {
     "data": {
      "image/png": "[encoded data removed]",
      "text/plain": [
       "<Figure size 500x800 with 2 Axes>"
      ]
     },
     "metadata": {},
     "output_type": "display_data"
    }
   ],
   "source": [
    "history = history_vgg16\n",
    "acc = history.history['accuracy']\n",
    "val_acc = history.history['val_accuracy']\n",
    "\n",
    "loss = history.history['loss']\n",
    "val_loss = history.history['val_loss']\n",
    "\n",
    "plt.figure(figsize=(5,8))\n",
    "plt.subplot(2, 1, 1)\n",
    "plt.plot(acc, label='Training Accuracy')\n",
    "plt.plot(val_acc, label='Validation Accuracy')\n",
    "plt.legend(loc='lower right')\n",
    "plt.ylabel('Accuracy')\n",
    "plt.ylim([min(plt.ylim()),1])\n",
    "plt.title('Training and Validation Accuracy')\n",
    "\n",
    "plt.subplot(2, 1, 2)\n",
    "plt.plot(loss, label='Training Loss')\n",
    "plt.plot(val_loss, label='Validation Loss')\n",
    "plt.legend(loc='upper right')\n",
    "plt.ylabel('Cross Entropy')\n",
    "plt.ylim([0,1.0])\n",
    "plt.title('Training and Validation Loss')\n",
    "plt.xlabel('epoch')\n",
    "plt.show()"
   ]
  },
  {
   "cell_type": "code",
   "execution_count": null,
   "metadata": {},
   "outputs": [],
   "source": [
    "for img_batch, label_batch in test_set:\n",
    "    "
   ]
  }
 ],
 "metadata": {
  "kernelspec": {
   "display_name": "tf",
   "language": "python",
   "name": "python3"
  },
  "language_info": {
   "codemirror_mode": {
    "name": "ipython",
    "version": 3
   },
   "file_extension": ".py",
   "mimetype": "text/x-python",
   "name": "python",
   "nbconvert_exporter": "python",
   "pygments_lexer": "ipython3",
   "version": "3.10.11"
  },
  "orig_nbformat": 4
 },
 "nbformat": 4,
 "nbformat_minor": 2
}
