{
 "cells": [
  {
   "cell_type": "code",
   "execution_count": 1,
   "metadata": {},
   "outputs": [
    {
     "name": "stdout",
     "output_type": "stream",
     "text": [
      "Segmentation Models: using `tf.keras` framework.\n"
     ]
    }
   ],
   "source": [
    "import tensorflow as tf\n",
    "import keras\n",
    "import os\n",
    "import shutil\n",
    "import cv2\n",
    "import numpy as np\n",
    "\n",
    "import glob as glob\n",
    "import matplotlib.pyplot as plt\n",
    "from keras.models import load_model\n",
    "import segmentation_models_3D as sm\n",
    "from tensorflow.keras.preprocessing.image import ImageDataGenerator\n",
    "\n",
    "focal_loss = sm.losses.CategoricalFocalLoss()\n"
   ]
  },
  {
   "cell_type": "markdown",
   "metadata": {},
   "source": [
    "# Evaluating on Test Data"
   ]
  },
  {
   "cell_type": "code",
   "execution_count": 84,
   "metadata": {},
   "outputs": [
    {
     "name": "stdout",
     "output_type": "stream",
     "text": [
      "Found 394 files belonging to 4 classes.\n"
     ]
    }
   ],
   "source": [
    "test_dir = \"Evaluation/Test\"\n",
    "test_ds = tf.keras.utils.image_dataset_from_directory(\n",
    "    test_dir,\n",
    "    batch_size=16,\n",
    "    image_size=(256, 256),\n",
    "    seed=123,\n",
    "    shuffle=False,\n",
    "    interpolation='area'\n",
    ")\n",
    "\n",
    "normalization_layer = tf.keras.layers.Rescaling(1./255)\n",
    "test_ds = test_ds.map(lambda x, y: (normalization_layer(x), y))\n"
   ]
  },
  {
   "cell_type": "code",
   "execution_count": 3,
   "metadata": {},
   "outputs": [],
   "source": [
    "vgg19 = load_model(\"model_checkpoints/vgg19_cc_loss.hdf5\")\n",
    "densenet121 = load_model(\"model_checkpoints/densenet121_focal_loss.hdf5\", custom_objects={'focal_loss': focal_loss})\n",
    "mobilenetv2 = load_model(\"model_checkpoints/mobilenetv2_focal_loss.hdf5\",  custom_objects={'focal_loss': focal_loss})\n",
    "\n"
   ]
  },
  {
   "cell_type": "code",
   "execution_count": 93,
   "metadata": {},
   "outputs": [
    {
     "name": "stdout",
     "output_type": "stream",
     "text": [
      "Collecting tensorflow_datasets\n",
      "  Downloading tensorflow_datasets-4.9.2-py3-none-any.whl (5.4 MB)\n",
      "     ---------------------------------------- 5.4/5.4 MB 3.5 MB/s eta 0:00:00\n",
      "Requirement already satisfied: absl-py in c:\\users\\anubhav\\anaconda3\\envs\\tf\\lib\\site-packages (from tensorflow_datasets) (1.4.0)\n",
      "Collecting array-record (from tensorflow_datasets)\n",
      "  Downloading array_record-0.4.1-py310-none-any.whl (3.0 MB)\n",
      "     ---------------------------------------- 3.0/3.0 MB 4.4 MB/s eta 0:00:00\n",
      "Collecting click (from tensorflow_datasets)\n",
      "  Downloading click-8.1.7-py3-none-any.whl (97 kB)\n",
      "     ---------------------------------------- 97.9/97.9 kB 5.8 MB/s eta 0:00:00\n",
      "Collecting dm-tree (from tensorflow_datasets)\n",
      "  Downloading dm_tree-0.1.8-cp310-cp310-win_amd64.whl (101 kB)\n",
      "     -------------------------------------- 101.3/101.3 kB 6.1 MB/s eta 0:00:00\n",
      "Collecting etils[enp,epath]>=0.9.0 (from tensorflow_datasets)\n",
      "  Downloading etils-1.4.1-py3-none-any.whl (135 kB)\n",
      "     -------------------------------------- 135.8/135.8 kB 7.9 MB/s eta 0:00:00\n",
      "Requirement already satisfied: numpy in c:\\users\\anubhav\\anaconda3\\envs\\tf\\lib\\site-packages (from tensorflow_datasets) (1.23.5)\n",
      "Collecting promise (from tensorflow_datasets)\n",
      "  Downloading promise-2.3.tar.gz (19 kB)\n",
      "  Preparing metadata (setup.py): started\n",
      "  Preparing metadata (setup.py): finished with status 'done'\n",
      "Collecting protobuf>=3.20 (from tensorflow_datasets)\n",
      "  Downloading protobuf-4.24.2-cp310-abi3-win_amd64.whl (430 kB)\n",
      "     -------------------------------------- 430.4/430.4 kB 8.9 MB/s eta 0:00:00\n",
      "Requirement already satisfied: psutil in c:\\users\\anubhav\\anaconda3\\envs\\tf\\lib\\site-packages (from tensorflow_datasets) (5.9.0)\n",
      "Requirement already satisfied: requests>=2.19.0 in c:\\users\\anubhav\\anaconda3\\envs\\tf\\lib\\site-packages (from tensorflow_datasets) (2.31.0)\n",
      "Collecting tensorflow-metadata (from tensorflow_datasets)\n",
      "  Downloading tensorflow_metadata-1.14.0-py3-none-any.whl (28 kB)\n",
      "Requirement already satisfied: termcolor in c:\\users\\anubhav\\anaconda3\\envs\\tf\\lib\\site-packages (from tensorflow_datasets) (2.3.0)\n",
      "Requirement already satisfied: toml in c:\\users\\anubhav\\anaconda3\\envs\\tf\\lib\\site-packages (from tensorflow_datasets) (0.10.2)\n",
      "Requirement already satisfied: tqdm in c:\\users\\anubhav\\anaconda3\\envs\\tf\\lib\\site-packages (from tensorflow_datasets) (4.65.0)\n",
      "Requirement already satisfied: wrapt in c:\\users\\anubhav\\anaconda3\\envs\\tf\\lib\\site-packages (from tensorflow_datasets) (1.14.1)\n",
      "Collecting importlib_resources (from etils[enp,epath]>=0.9.0->tensorflow_datasets)\n",
      "  Downloading importlib_resources-6.0.1-py3-none-any.whl (34 kB)\n",
      "Requirement already satisfied: typing_extensions in c:\\users\\anubhav\\anaconda3\\envs\\tf\\lib\\site-packages (from etils[enp,epath]>=0.9.0->tensorflow_datasets) (4.6.3)\n",
      "Requirement already satisfied: zipp in c:\\users\\anubhav\\anaconda3\\envs\\tf\\lib\\site-packages (from etils[enp,epath]>=0.9.0->tensorflow_datasets) (3.15.0)\n",
      "Requirement already satisfied: charset-normalizer<4,>=2 in c:\\users\\anubhav\\anaconda3\\envs\\tf\\lib\\site-packages (from requests>=2.19.0->tensorflow_datasets) (3.1.0)\n",
      "Requirement already satisfied: idna<4,>=2.5 in c:\\users\\anubhav\\anaconda3\\envs\\tf\\lib\\site-packages (from requests>=2.19.0->tensorflow_datasets) (3.4)\n",
      "Requirement already satisfied: urllib3<3,>=1.21.1 in c:\\users\\anubhav\\anaconda3\\envs\\tf\\lib\\site-packages (from requests>=2.19.0->tensorflow_datasets) (1.26.16)\n",
      "Requirement already satisfied: certifi>=2017.4.17 in c:\\users\\anubhav\\anaconda3\\envs\\tf\\lib\\site-packages (from requests>=2.19.0->tensorflow_datasets) (2023.5.7)\n",
      "Requirement already satisfied: colorama in c:\\users\\anubhav\\anaconda3\\envs\\tf\\lib\\site-packages (from click->tensorflow_datasets) (0.4.6)\n",
      "Requirement already satisfied: six in c:\\users\\anubhav\\anaconda3\\envs\\tf\\lib\\site-packages (from promise->tensorflow_datasets) (1.16.0)\n",
      "Collecting googleapis-common-protos<2,>=1.52.0 (from tensorflow-metadata->tensorflow_datasets)\n",
      "  Downloading googleapis_common_protos-1.60.0-py2.py3-none-any.whl (227 kB)\n",
      "     ------------------------------------- 227.6/227.6 kB 14.5 MB/s eta 0:00:00\n",
      "Collecting protobuf>=3.20 (from tensorflow_datasets)\n",
      "  Using cached protobuf-3.20.3-cp310-cp310-win_amd64.whl (904 kB)\n",
      "Building wheels for collected packages: promise\n",
      "  Building wheel for promise (setup.py): started\n",
      "  Building wheel for promise (setup.py): finished with status 'done'\n",
      "  Created wheel for promise: filename=promise-2.3-py3-none-any.whl size=21548 sha256=3189152dbc02891d9412e57273fb5d7428fa8264f19c20aa896ca5cb38343176\n",
      "  Stored in directory: c:\\users\\anubhav\\appdata\\local\\pip\\cache\\wheels\\54\\4e\\28\\3ed0e1c8a752867445bab994d2340724928aa3ab059c57c8db\n",
      "Successfully built promise\n",
      "Installing collected packages: dm-tree, protobuf, promise, importlib_resources, etils, click, googleapis-common-protos, tensorflow-metadata, array-record, tensorflow_datasets\n",
      "  Attempting uninstall: protobuf\n",
      "    Found existing installation: protobuf 3.19.6\n",
      "    Uninstalling protobuf-3.19.6:\n",
      "      Successfully uninstalled protobuf-3.19.6\n",
      "Note: you may need to restart the kernel to use updated packages.\n"
     ]
    },
    {
     "name": "stderr",
     "output_type": "stream",
     "text": [
      "WARNING: Ignoring invalid distribution -otobuf (c:\\users\\anubhav\\anaconda3\\envs\\tf\\lib\\site-packages)\n",
      "WARNING: Ignoring invalid distribution - (c:\\users\\anubhav\\anaconda3\\envs\\tf\\lib\\site-packages)\n",
      "WARNING: Ignoring invalid distribution -otobuf (c:\\users\\anubhav\\anaconda3\\envs\\tf\\lib\\site-packages)\n",
      "WARNING: Ignoring invalid distribution -rotobuf (c:\\users\\anubhav\\anaconda3\\envs\\tf\\lib\\site-packages)\n",
      "WARNING: Ignoring invalid distribution -otobuf (c:\\users\\anubhav\\anaconda3\\envs\\tf\\lib\\site-packages)\n",
      "WARNING: Ignoring invalid distribution - (c:\\users\\anubhav\\anaconda3\\envs\\tf\\lib\\site-packages)\n",
      "WARNING: Ignoring invalid distribution -otobuf (c:\\users\\anubhav\\anaconda3\\envs\\tf\\lib\\site-packages)\n",
      "WARNING: Ignoring invalid distribution -rotobuf (c:\\users\\anubhav\\anaconda3\\envs\\tf\\lib\\site-packages)\n",
      "ERROR: Could not install packages due to an OSError: [WinError 5] Access is denied: 'C:\\\\Users\\\\Anubhav\\\\anaconda3\\\\envs\\\\tf\\\\Lib\\\\site-packages\\\\google\\\\~8otobuf\\\\internal\\\\_api_implementation.cp310-win_amd64.pyd'\n",
      "Consider using the `--user` option or check the permissions.\n",
      "\n"
     ]
    }
   ],
   "source": [
    "pip install tensorflow_datasets"
   ]
  },
  {
   "cell_type": "code",
   "execution_count": 95,
   "metadata": {},
   "outputs": [
    {
     "name": "stdout",
     "output_type": "stream",
     "text": [
      "25/25 [==============================] - 3s 119ms/step\n"
     ]
    }
   ],
   "source": [
    "predictions = vgg19.predict(test_ds)\n"
   ]
  },
  {
   "cell_type": "code",
   "execution_count": 5,
   "metadata": {},
   "outputs": [
    {
     "data": {
      "text/plain": [
       "array([9.9848455e-01, 3.6710370e-04, 2.5276607e-04, 8.9568121e-04],\n",
       "      dtype=float32)"
      ]
     },
     "execution_count": 5,
     "metadata": {},
     "output_type": "execute_result"
    }
   ],
   "source": [
    "predictions[0]"
   ]
  },
  {
   "cell_type": "markdown",
   "metadata": {},
   "source": [
    "# Create an Ensemble model"
   ]
  },
  {
   "cell_type": "code",
   "execution_count": 6,
   "metadata": {},
   "outputs": [],
   "source": [
    "models = [vgg19, densenet121, mobilenetv2]\n"
   ]
  },
  {
   "cell_type": "code",
   "execution_count": 7,
   "metadata": {},
   "outputs": [
    {
     "name": "stdout",
     "output_type": "stream",
     "text": [
      "(16,)\n",
      "(16,)\n",
      "(16,)\n",
      "(16,)\n",
      "(16,)\n",
      "(16,)\n",
      "(16,)\n",
      "(16,)\n",
      "(16,)\n",
      "(16,)\n",
      "(16,)\n",
      "(16,)\n",
      "(16,)\n",
      "(16,)\n",
      "(16,)\n",
      "(16,)\n",
      "(16,)\n",
      "(16,)\n",
      "(16,)\n",
      "(16,)\n",
      "(16,)\n",
      "(16,)\n",
      "(16,)\n",
      "(16,)\n",
      "(10,)\n"
     ]
    }
   ],
   "source": [
    "y_test =  np.array([])\n",
    "for x, y in test_ds:\n",
    "  print(y.shape)\n",
    "  y_test = np.concatenate([y_test, y.numpy()])"
   ]
  },
  {
   "cell_type": "code",
   "execution_count": 8,
   "metadata": {},
   "outputs": [
    {
     "data": {
      "text/plain": [
       "0.0"
      ]
     },
     "execution_count": 8,
     "metadata": {},
     "output_type": "execute_result"
    }
   ],
   "source": [
    "y_test.shape\n",
    "y_test[0]"
   ]
  },
  {
   "cell_type": "code",
   "execution_count": 22,
   "metadata": {},
   "outputs": [
    {
     "name": "stdout",
     "output_type": "stream",
     "text": [
      "25/25 [==============================] - 3s 118ms/step\n",
      "25/25 [==============================] - 2s 76ms/step\n",
      "25/25 [==============================] - 1s 30ms/step\n"
     ]
    }
   ],
   "source": [
    "preds = [model.predict(test_ds) for model in models]\n",
    "preds = np.array(preds)\n",
    "weights = [0.4, 0.3, 0.3]\n"
   ]
  },
  {
   "cell_type": "code",
   "execution_count": 23,
   "metadata": {},
   "outputs": [
    {
     "data": {
      "text/plain": [
       "(3, 394, 4)"
      ]
     },
     "execution_count": 23,
     "metadata": {},
     "output_type": "execute_result"
    }
   ],
   "source": [
    "preds.shape"
   ]
  },
  {
   "cell_type": "code",
   "execution_count": 12,
   "metadata": {},
   "outputs": [
    {
     "name": "stdout",
     "output_type": "stream",
     "text": [
      "Note: you may need to restart the kernel to use updated packages.\n"
     ]
    },
    {
     "name": "stderr",
     "output_type": "stream",
     "text": [
      "WARNING: Ignoring invalid distribution -otobuf (c:\\users\\anubhav\\anaconda3\\envs\\tf\\lib\\site-packages)\n",
      "WARNING: Ignoring invalid distribution - (c:\\users\\anubhav\\anaconda3\\envs\\tf\\lib\\site-packages)\n",
      "WARNING: Ignoring invalid distribution -otobuf (c:\\users\\anubhav\\anaconda3\\envs\\tf\\lib\\site-packages)\n",
      "WARNING: Ignoring invalid distribution -rotobuf (c:\\users\\anubhav\\anaconda3\\envs\\tf\\lib\\site-packages)\n",
      "WARNING: Ignoring invalid distribution -otobuf (c:\\users\\anubhav\\anaconda3\\envs\\tf\\lib\\site-packages)\n",
      "WARNING: Ignoring invalid distribution - (c:\\users\\anubhav\\anaconda3\\envs\\tf\\lib\\site-packages)\n",
      "WARNING: Ignoring invalid distribution -otobuf (c:\\users\\anubhav\\anaconda3\\envs\\tf\\lib\\site-packages)\n",
      "WARNING: Ignoring invalid distribution -rotobuf (c:\\users\\anubhav\\anaconda3\\envs\\tf\\lib\\site-packages)\n"
     ]
    },
    {
     "name": "stdout",
     "output_type": "stream",
     "text": [
      "Requirement already satisfied: scikit-learn in c:\\users\\anubhav\\anaconda3\\envs\\tf\\lib\\site-packages (1.3.0)\n",
      "Requirement already satisfied: numpy>=1.17.3 in c:\\users\\anubhav\\anaconda3\\envs\\tf\\lib\\site-packages (from scikit-learn) (1.23.5)\n",
      "Requirement already satisfied: scipy>=1.5.0 in c:\\users\\anubhav\\anaconda3\\envs\\tf\\lib\\site-packages (from scikit-learn) (1.10.1)\n",
      "Requirement already satisfied: joblib>=1.1.1 in c:\\users\\anubhav\\anaconda3\\envs\\tf\\lib\\site-packages (from scikit-learn) (1.3.2)\n",
      "Requirement already satisfied: threadpoolctl>=2.0.0 in c:\\users\\anubhav\\anaconda3\\envs\\tf\\lib\\site-packages (from scikit-learn) (3.2.0)\n"
     ]
    }
   ],
   "source": [
    "pip install scikit-learn"
   ]
  },
  {
   "cell_type": "markdown",
   "metadata": {},
   "source": [
    "# Weighted Ensemble approach"
   ]
  },
  {
   "cell_type": "code",
   "execution_count": 25,
   "metadata": {},
   "outputs": [],
   "source": [
    "from sklearn.metrics import accuracy_score\n",
    "\n",
    "weighted_preds = np.tensordot(preds, weights, axes=((0),(0)))\n",
    "weighted_ensemble_prediction = np.argmax(weighted_preds, axis=1)\n",
    "\n",
    "weighted_accuracy = accuracy_score(y_test, weighted_ensemble_prediction)"
   ]
  },
  {
   "cell_type": "code",
   "execution_count": 26,
   "metadata": {},
   "outputs": [
    {
     "name": "stdout",
     "output_type": "stream",
     "text": [
      "0.9873096446700508\n"
     ]
    }
   ],
   "source": [
    "# Weighted accuracy from randomly initialized weights\n",
    "print(weighted_accuracy)"
   ]
  },
  {
   "cell_type": "code",
   "execution_count": 27,
   "metadata": {},
   "outputs": [
    {
     "data": {
      "text/plain": [
       "(394, 4)"
      ]
     },
     "execution_count": 27,
     "metadata": {},
     "output_type": "execute_result"
    }
   ],
   "source": [
    "weighted_preds.shape"
   ]
  },
  {
   "cell_type": "code",
   "execution_count": 28,
   "metadata": {},
   "outputs": [
    {
     "data": {
      "text/plain": [
       "array([[[9.9848455e-01, 3.6710370e-04, 2.5276607e-04, 8.9568121e-04],\n",
       "        [9.9999988e-01, 2.3715780e-08, 1.3956732e-09, 5.8369892e-08],\n",
       "        [9.9988854e-01, 2.4827932e-05, 1.3871686e-06, 8.5312531e-05],\n",
       "        ...,\n",
       "        [3.3930484e-03, 7.9039726e-03, 4.9192454e-06, 9.8869801e-01],\n",
       "        [1.8160634e-07, 1.3162002e-03, 1.2363295e-05, 9.9867129e-01],\n",
       "        [9.8399926e-07, 9.0859030e-05, 6.3902873e-05, 9.9984419e-01]],\n",
       "\n",
       "       [[9.9998093e-01, 1.8725044e-05, 3.2149632e-08, 3.4989625e-07],\n",
       "        [1.0000000e+00, 8.3984052e-12, 3.6387733e-12, 6.6359315e-13],\n",
       "        [1.0000000e+00, 9.4393720e-09, 1.6023181e-10, 1.5393098e-10],\n",
       "        ...,\n",
       "        [9.2031667e-07, 1.7687822e-06, 8.4420016e-08, 9.9999714e-01],\n",
       "        [5.0181126e-09, 9.8878591e-06, 3.0816543e-06, 9.9998701e-01],\n",
       "        [8.8024846e-13, 4.3709696e-07, 2.2521784e-09, 9.9999952e-01]],\n",
       "\n",
       "       [[9.8828286e-01, 6.8919770e-03, 1.2008512e-03, 3.6243275e-03],\n",
       "        [9.9965417e-01, 3.0602398e-04, 2.6966395e-06, 3.7103473e-05],\n",
       "        [9.9948239e-01, 4.4710061e-04, 3.4235777e-06, 6.7053967e-05],\n",
       "        ...,\n",
       "        [1.7089693e-02, 1.5561143e-01, 1.9451362e-07, 8.2729864e-01],\n",
       "        [8.1136553e-05, 4.6832496e-03, 4.2410669e-04, 9.9481153e-01],\n",
       "        [6.4774984e-05, 2.0343671e-03, 7.9363293e-05, 9.9782157e-01]]],\n",
       "      dtype=float32)"
      ]
     },
     "execution_count": 28,
     "metadata": {},
     "output_type": "execute_result"
    }
   ],
   "source": [
    "preds"
   ]
  },
  {
   "cell_type": "code",
   "execution_count": 29,
   "metadata": {},
   "outputs": [
    {
     "name": "stdout",
     "output_type": "stream",
     "text": [
      "25/25 [==============================] - 3s 121ms/step\n",
      "25/25 [==============================] - 2s 77ms/step\n",
      "25/25 [==============================] - 1s 30ms/step\n"
     ]
    }
   ],
   "source": [
    "prediction1 = vgg19.predict(test_ds)\n",
    "prediction1 = prediction1.argmax(axis=-1)\n",
    "\n",
    "prediction2 = densenet121.predict(test_ds)\n",
    "prediction2 = prediction2.argmax(axis=-1)\n",
    "\n",
    "prediction3 = mobilenetv2.predict(test_ds)\n",
    "prediction3 = prediction3.argmax(axis=-1)"
   ]
  },
  {
   "cell_type": "code",
   "execution_count": 30,
   "metadata": {},
   "outputs": [
    {
     "data": {
      "text/plain": [
       "(394,)"
      ]
     },
     "execution_count": 30,
     "metadata": {},
     "output_type": "execute_result"
    }
   ],
   "source": [
    "prediction1.shape"
   ]
  },
  {
   "cell_type": "code",
   "execution_count": 31,
   "metadata": {},
   "outputs": [],
   "source": [
    "accuracy1 = accuracy_score(y_test, prediction1)\n",
    "accuracy2 = accuracy_score(y_test, prediction2)\n",
    "accuracy3 = accuracy_score(y_test, prediction3)"
   ]
  },
  {
   "cell_type": "code",
   "execution_count": 32,
   "metadata": {},
   "outputs": [
    {
     "name": "stdout",
     "output_type": "stream",
     "text": [
      "0.9847715736040609\n",
      "0.9873096446700508\n",
      "0.9746192893401016\n"
     ]
    }
   ],
   "source": [
    "print(accuracy1)\n",
    "print(accuracy2)\n",
    "print(accuracy3)"
   ]
  },
  {
   "cell_type": "markdown",
   "metadata": {},
   "source": [
    "# Weighted Ensemble using Grid Search"
   ]
  },
  {
   "cell_type": "code",
   "execution_count": 66,
   "metadata": {},
   "outputs": [],
   "source": [
    "import pandas as pd\n",
    "df = []\n",
    "\n",
    "for w1 in range(0, 5):\n",
    "    for w2 in range(0,5):\n",
    "        for w3 in range(0,5):\n",
    "            wts = [w1/10.,w2/10.,w3/10.]\n",
    "            wted_preds1 = np.tensordot(preds, wts, axes=((0),(0)))\n",
    "            wted_ensemble_pred = np.argmax(wted_preds1, axis=1)\n",
    "            weighted_accuracy = accuracy_score(y_test, wted_ensemble_pred)\n",
    "            df.append({'wt1':wts[0],'wt2':wts[1], \n",
    "                                         'wt3':wts[2], 'acc':weighted_accuracy*100, 'preds':wted_ensemble_pred})"
   ]
  },
  {
   "cell_type": "code",
   "execution_count": 67,
   "metadata": {},
   "outputs": [],
   "source": [
    "df = pd.DataFrame(df)"
   ]
  },
  {
   "cell_type": "code",
   "execution_count": 68,
   "metadata": {},
   "outputs": [
    {
     "name": "stdout",
     "output_type": "stream",
     "text": [
      "Max accuracy of  98.98477157360406  obained with w1= 0.1  w2= 0.1  and w3= 0.0\n",
      "[0 0 0 0 0 0 0 0 0 0 0 0 0 0 0 0 0 0 0 0 0 0 0 0 0 0 0 0 0 0 0 0 0 0 0 0 0\n",
      " 0 0 0 0 0 0 0 0 0 0 0 0 0 0 0 0 0 0 0 0 0 0 0 0 0 0 0 0 0 0 0 0 0 0 0 0 0\n",
      " 1 0 0 0 1 0 0 0 0 0 0 0 0 0 0 0 1 1 1 1 1 1 1 1 1 1 1 1 1 1 1 1 1 1 1 1 1\n",
      " 1 1 1 1 1 1 1 1 1 1 1 1 1 1 1 1 1 1 1 1 1 1 1 1 1 1 1 1 1 1 1 1 1 1 1 1 1\n",
      " 1 1 1 1 1 1 1 1 1 1 1 1 1 1 1 1 1 1 1 1 1 1 1 1 1 1 1 1 1 1 1 1 1 1 2 2 2\n",
      " 2 2 2 2 2 2 2 2 2 2 2 2 2 2 2 2 2 2 2 2 2 2 2 2 2 2 2 2 2 2 2 2 2 2 2 2 2\n",
      " 2 2 2 2 2 2 2 2 2 2 2 2 2 2 2 2 2 2 2 2 2 2 2 2 2 2 2 2 2 2 2 2 2 2 2 2 2\n",
      " 2 2 2 2 2 2 2 2 2 2 2 2 2 2 2 2 2 2 2 2 2 2 2 2 2 2 2 2 2 2 2 2 2 2 2 2 2\n",
      " 2 2 2 2 2 2 2 2 3 3 3 3 3 3 3 3 3 3 3 1 3 3 3 3 3 3 3 3 3 3 3 3 3 3 3 3 3\n",
      " 3 3 3 3 3 3 3 3 3 3 3 3 1 3 3 3 3 3 3 3 3 3 3 3 3 3 3 3 3 3 3 3 3 3 3 3 3\n",
      " 3 3 3 3 3 3 3 3 3 3 3 3 3 3 3 3 3 3 3 3 3 3 3 3]\n"
     ]
    }
   ],
   "source": [
    "max_acc_row = df.iloc[df['acc'].idxmax()]\n",
    "print(\"Max accuracy of \", max_acc_row[3], \" obained with w1=\", max_acc_row[0], \" w2=\", max_acc_row[1], \" and w3=\", max_acc_row[2])\n",
    "print(max_acc_row[4])         \n"
   ]
  },
  {
   "cell_type": "code",
   "execution_count": 69,
   "metadata": {},
   "outputs": [],
   "source": [
    "preds = max_acc_row[4]"
   ]
  },
  {
   "cell_type": "code",
   "execution_count": 57,
   "metadata": {},
   "outputs": [
    {
     "data": {
      "text/html": [
       "<div>\n",
       "<style scoped>\n",
       "    .dataframe tbody tr th:only-of-type {\n",
       "        vertical-align: middle;\n",
       "    }\n",
       "\n",
       "    .dataframe tbody tr th {\n",
       "        vertical-align: top;\n",
       "    }\n",
       "\n",
       "    .dataframe thead th {\n",
       "        text-align: right;\n",
       "    }\n",
       "</style>\n",
       "<table border=\"1\" class=\"dataframe\">\n",
       "  <thead>\n",
       "    <tr style=\"text-align: right;\">\n",
       "      <th></th>\n",
       "      <th>wt1</th>\n",
       "      <th>wt2</th>\n",
       "      <th>wt3</th>\n",
       "      <th>acc</th>\n",
       "    </tr>\n",
       "  </thead>\n",
       "  <tbody>\n",
       "    <tr>\n",
       "      <th>0</th>\n",
       "      <td>0.0</td>\n",
       "      <td>0.0</td>\n",
       "      <td>0.0</td>\n",
       "      <td>22.842640</td>\n",
       "    </tr>\n",
       "    <tr>\n",
       "      <th>1</th>\n",
       "      <td>0.0</td>\n",
       "      <td>0.0</td>\n",
       "      <td>0.1</td>\n",
       "      <td>97.461929</td>\n",
       "    </tr>\n",
       "    <tr>\n",
       "      <th>2</th>\n",
       "      <td>0.0</td>\n",
       "      <td>0.0</td>\n",
       "      <td>0.2</td>\n",
       "      <td>97.461929</td>\n",
       "    </tr>\n",
       "    <tr>\n",
       "      <th>3</th>\n",
       "      <td>0.0</td>\n",
       "      <td>0.0</td>\n",
       "      <td>0.3</td>\n",
       "      <td>97.461929</td>\n",
       "    </tr>\n",
       "    <tr>\n",
       "      <th>4</th>\n",
       "      <td>0.0</td>\n",
       "      <td>0.0</td>\n",
       "      <td>0.4</td>\n",
       "      <td>97.461929</td>\n",
       "    </tr>\n",
       "    <tr>\n",
       "      <th>5</th>\n",
       "      <td>0.0</td>\n",
       "      <td>0.1</td>\n",
       "      <td>0.0</td>\n",
       "      <td>98.730964</td>\n",
       "    </tr>\n",
       "    <tr>\n",
       "      <th>6</th>\n",
       "      <td>0.0</td>\n",
       "      <td>0.1</td>\n",
       "      <td>0.1</td>\n",
       "      <td>98.730964</td>\n",
       "    </tr>\n",
       "    <tr>\n",
       "      <th>7</th>\n",
       "      <td>0.0</td>\n",
       "      <td>0.1</td>\n",
       "      <td>0.2</td>\n",
       "      <td>98.223350</td>\n",
       "    </tr>\n",
       "    <tr>\n",
       "      <th>8</th>\n",
       "      <td>0.0</td>\n",
       "      <td>0.1</td>\n",
       "      <td>0.3</td>\n",
       "      <td>98.477157</td>\n",
       "    </tr>\n",
       "    <tr>\n",
       "      <th>9</th>\n",
       "      <td>0.0</td>\n",
       "      <td>0.1</td>\n",
       "      <td>0.4</td>\n",
       "      <td>98.477157</td>\n",
       "    </tr>\n",
       "    <tr>\n",
       "      <th>10</th>\n",
       "      <td>0.0</td>\n",
       "      <td>0.2</td>\n",
       "      <td>0.0</td>\n",
       "      <td>98.730964</td>\n",
       "    </tr>\n",
       "    <tr>\n",
       "      <th>11</th>\n",
       "      <td>0.0</td>\n",
       "      <td>0.2</td>\n",
       "      <td>0.1</td>\n",
       "      <td>98.477157</td>\n",
       "    </tr>\n",
       "    <tr>\n",
       "      <th>12</th>\n",
       "      <td>0.0</td>\n",
       "      <td>0.2</td>\n",
       "      <td>0.2</td>\n",
       "      <td>98.730964</td>\n",
       "    </tr>\n",
       "    <tr>\n",
       "      <th>13</th>\n",
       "      <td>0.0</td>\n",
       "      <td>0.2</td>\n",
       "      <td>0.3</td>\n",
       "      <td>98.477157</td>\n",
       "    </tr>\n",
       "    <tr>\n",
       "      <th>14</th>\n",
       "      <td>0.0</td>\n",
       "      <td>0.2</td>\n",
       "      <td>0.4</td>\n",
       "      <td>98.223350</td>\n",
       "    </tr>\n",
       "  </tbody>\n",
       "</table>\n",
       "</div>"
      ],
      "text/plain": [
       "    wt1  wt2  wt3        acc\n",
       "0   0.0  0.0  0.0  22.842640\n",
       "1   0.0  0.0  0.1  97.461929\n",
       "2   0.0  0.0  0.2  97.461929\n",
       "3   0.0  0.0  0.3  97.461929\n",
       "4   0.0  0.0  0.4  97.461929\n",
       "5   0.0  0.1  0.0  98.730964\n",
       "6   0.0  0.1  0.1  98.730964\n",
       "7   0.0  0.1  0.2  98.223350\n",
       "8   0.0  0.1  0.3  98.477157\n",
       "9   0.0  0.1  0.4  98.477157\n",
       "10  0.0  0.2  0.0  98.730964\n",
       "11  0.0  0.2  0.1  98.477157\n",
       "12  0.0  0.2  0.2  98.730964\n",
       "13  0.0  0.2  0.3  98.477157\n",
       "14  0.0  0.2  0.4  98.223350"
      ]
     },
     "execution_count": 57,
     "metadata": {},
     "output_type": "execute_result"
    }
   ],
   "source": [
    "df.head(15)"
   ]
  },
  {
   "cell_type": "code",
   "execution_count": 35,
   "metadata": {},
   "outputs": [
    {
     "name": "stdout",
     "output_type": "stream",
     "text": [
      "(125,)\n"
     ]
    }
   ],
   "source": [
    "max_acc= np.array(max_acc)\n",
    "max_acc.shape\n",
    "prediction = np.argmax(max_acc)\n",
    "print(max_acc.shape)"
   ]
  },
  {
   "cell_type": "code",
   "execution_count": 36,
   "metadata": {},
   "outputs": [
    {
     "name": "stdout",
     "output_type": "stream",
     "text": [
      "0.9898477157360406\n"
     ]
    }
   ],
   "source": [
    "print(max_acc[prediction])\n",
    "\n",
    "# Test accuracy improved by 0.2% from the best model"
   ]
  },
  {
   "cell_type": "code",
   "execution_count": 99,
   "metadata": {},
   "outputs": [
    {
     "name": "stdout",
     "output_type": "stream",
     "text": [
      "Collecting seaborn\n",
      "  Downloading seaborn-0.12.2-py3-none-any.whl (293 kB)\n",
      "     -------------------------------------- 293.3/293.3 kB 1.6 MB/s eta 0:00:00\n",
      "Requirement already satisfied: numpy!=1.24.0,>=1.17 in c:\\users\\anubhav\\anaconda3\\envs\\tf\\lib\\site-packages (from seaborn) (1.23.5)\n",
      "Requirement already satisfied: pandas>=0.25 in c:\\users\\anubhav\\anaconda3\\envs\\tf\\lib\\site-packages (from seaborn) (2.0.2)\n",
      "Requirement already satisfied: matplotlib!=3.6.1,>=3.1 in c:\\users\\anubhav\\anaconda3\\envs\\tf\\lib\\site-packages (from seaborn) (3.7.1)\n",
      "Requirement already satisfied: contourpy>=1.0.1 in c:\\users\\anubhav\\anaconda3\\envs\\tf\\lib\\site-packages (from matplotlib!=3.6.1,>=3.1->seaborn) (1.0.5)\n",
      "Requirement already satisfied: cycler>=0.10 in c:\\users\\anubhav\\anaconda3\\envs\\tf\\lib\\site-packages (from matplotlib!=3.6.1,>=3.1->seaborn) (0.11.0)\n",
      "Requirement already satisfied: fonttools>=4.22.0 in c:\\users\\anubhav\\anaconda3\\envs\\tf\\lib\\site-packages (from matplotlib!=3.6.1,>=3.1->seaborn) (4.25.0)\n",
      "Requirement already satisfied: kiwisolver>=1.0.1 in c:\\users\\anubhav\\anaconda3\\envs\\tf\\lib\\site-packages (from matplotlib!=3.6.1,>=3.1->seaborn) (1.4.4)\n",
      "Requirement already satisfied: packaging>=20.0 in c:\\users\\anubhav\\anaconda3\\envs\\tf\\lib\\site-packages (from matplotlib!=3.6.1,>=3.1->seaborn) (23.0)\n",
      "Requirement already satisfied: pillow>=6.2.0 in c:\\users\\anubhav\\anaconda3\\envs\\tf\\lib\\site-packages (from matplotlib!=3.6.1,>=3.1->seaborn) (9.4.0)\n",
      "Requirement already satisfied: pyparsing>=2.3.1 in c:\\users\\anubhav\\anaconda3\\envs\\tf\\lib\\site-packages (from matplotlib!=3.6.1,>=3.1->seaborn) (3.0.9)\n",
      "Requirement already satisfied: python-dateutil>=2.7 in c:\\users\\anubhav\\anaconda3\\envs\\tf\\lib\\site-packages (from matplotlib!=3.6.1,>=3.1->seaborn) (2.8.2)\n",
      "Requirement already satisfied: pytz>=2020.1 in c:\\users\\anubhav\\anaconda3\\envs\\tf\\lib\\site-packages (from pandas>=0.25->seaborn) (2023.3)\n",
      "Requirement already satisfied: tzdata>=2022.1 in c:\\users\\anubhav\\anaconda3\\envs\\tf\\lib\\site-packages (from pandas>=0.25->seaborn) (2023.3)\n",
      "Requirement already satisfied: six>=1.5 in c:\\users\\anubhav\\anaconda3\\envs\\tf\\lib\\site-packages (from python-dateutil>=2.7->matplotlib!=3.6.1,>=3.1->seaborn) (1.16.0)\n",
      "Installing collected packages: seaborn\n",
      "Successfully installed seaborn-0.12.2\n",
      "Note: you may need to restart the kernel to use updated packages.\n"
     ]
    },
    {
     "name": "stderr",
     "output_type": "stream",
     "text": [
      "WARNING: Ignoring invalid distribution -otobuf (c:\\users\\anubhav\\anaconda3\\envs\\tf\\lib\\site-packages)\n",
      "WARNING: Ignoring invalid distribution - (c:\\users\\anubhav\\anaconda3\\envs\\tf\\lib\\site-packages)\n",
      "WARNING: Ignoring invalid distribution -otobuf (c:\\users\\anubhav\\anaconda3\\envs\\tf\\lib\\site-packages)\n",
      "WARNING: Ignoring invalid distribution -0otobuf (c:\\users\\anubhav\\anaconda3\\envs\\tf\\lib\\site-packages)\n",
      "WARNING: Ignoring invalid distribution -rotobuf (c:\\users\\anubhav\\anaconda3\\envs\\tf\\lib\\site-packages)\n",
      "WARNING: Ignoring invalid distribution -otobuf (c:\\users\\anubhav\\anaconda3\\envs\\tf\\lib\\site-packages)\n",
      "WARNING: Ignoring invalid distribution - (c:\\users\\anubhav\\anaconda3\\envs\\tf\\lib\\site-packages)\n",
      "WARNING: Ignoring invalid distribution -otobuf (c:\\users\\anubhav\\anaconda3\\envs\\tf\\lib\\site-packages)\n",
      "WARNING: Ignoring invalid distribution -0otobuf (c:\\users\\anubhav\\anaconda3\\envs\\tf\\lib\\site-packages)\n",
      "WARNING: Ignoring invalid distribution -rotobuf (c:\\users\\anubhav\\anaconda3\\envs\\tf\\lib\\site-packages)\n"
     ]
    }
   ],
   "source": [
    "pip install seaborn"
   ]
  },
  {
   "cell_type": "code",
   "execution_count": 102,
   "metadata": {},
   "outputs": [
    {
     "name": "stdout",
     "output_type": "stream",
     "text": [
      "Found 394 images belonging to 4 classes.\n"
     ]
    }
   ],
   "source": [
    "testing_datagen = ImageDataGenerator(rescale=1./ 255)\n",
    "\n",
    "testing_generator = testing_datagen.flow_from_directory(\n",
    "test_dir,\n",
    "target_size=(256,256),\n",
    "batch_size=16,\n",
    "shuffle=False,\n",
    "class_mode='categorical')\n",
    "\n",
    "target_names = []\n",
    "for key in testing_generator.class_indices:\n",
    "    target_names.append(key)"
   ]
  },
  {
   "cell_type": "code",
   "execution_count": 104,
   "metadata": {},
   "outputs": [
    {
     "data": {
      "text/plain": [
       "[Text(0, 0.5, 'glioma'),\n",
       " Text(0, 1.5, 'meningioma'),\n",
       " Text(0, 2.5, 'notumor'),\n",
       " Text(0, 3.5, 'pituitary')]"
      ]
     },
     "execution_count": 104,
     "metadata": {},
     "output_type": "execute_result"
    },
    {
     "data": {
      "image/png": "[encoded data removed]",
      "text/plain": [
       "<Figure size 640x480 with 2 Axes>"
      ]
     },
     "metadata": {},
     "output_type": "display_data"
    }
   ],
   "source": [
    "## Confusion Matrix\n",
    "\n",
    "from sklearn.metrics import confusion_matrix\n",
    "from sklearn import metrics\n",
    "\n",
    "cm = confusion_matrix(y_test, preds)\n",
    "\n",
    "# cm_display = metrics.ConfusionMatrixDisplay(confusion_matrix = cm, display_labels = [True, True])\n",
    "import seaborn as sns\n",
    "import matplotlib.pyplot as plt     \n",
    "\n",
    "ax= plt.subplot()\n",
    "sns.heatmap(cm, annot=True, fmt='g', ax=ax);  #annot=True to annotate cells, ftm='g' to disable scientific notation\n",
    "\n",
    "# labels, title and ticks\n",
    "ax.set_xlabel('Predicted labels');ax.set_ylabel('True labels'); \n",
    "ax.set_title('Confusion Matrix'); \n",
    "ax.xaxis.set_ticklabels(target_names); ax.yaxis.set_ticklabels(target_names)"
   ]
  },
  {
   "cell_type": "code",
   "execution_count": 105,
   "metadata": {},
   "outputs": [
    {
     "name": "stdout",
     "output_type": "stream",
     "text": [
      "Classification Report\n",
      "              precision    recall  f1-score   support\n",
      "\n",
      "      glioma       1.00      0.98      0.99        90\n",
      "  meningioma       0.96      1.00      0.98        92\n",
      "     notumor       1.00      1.00      1.00       122\n",
      "   pituitary       1.00      0.98      0.99        90\n",
      "\n",
      "    accuracy                           0.99       394\n",
      "   macro avg       0.99      0.99      0.99       394\n",
      "weighted avg       0.99      0.99      0.99       394\n",
      "\n"
     ]
    }
   ],
   "source": [
    "#Print Classification Report\n",
    "print('Classification Report')\n",
    "print(classification_report(testing_generator.classes, preds, target_names=target_names))"
   ]
  },
  {
   "cell_type": "code",
   "execution_count": null,
   "metadata": {},
   "outputs": [],
   "source": []
  }
 ],
 "metadata": {
  "kernelspec": {
   "display_name": "tf",
   "language": "python",
   "name": "python3"
  },
  "language_info": {
   "codemirror_mode": {
    "name": "ipython",
    "version": 3
   },
   "file_extension": ".py",
   "mimetype": "text/x-python",
   "name": "python",
   "nbconvert_exporter": "python",
   "pygments_lexer": "ipython3",
   "version": "3.10.11"
  },
  "orig_nbformat": 4
 },
 "nbformat": 4,
 "nbformat_minor": 2
}
